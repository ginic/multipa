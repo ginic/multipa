{
 "cells": [
  {
   "cell_type": "markdown",
   "id": "913cded1",
   "metadata": {},
   "source": [
    "# By-phone error rates: TIMIT\n",
    "This computes and compares error rates at the phone level across different models' predicted transcriptions for the TIMIT corpus. This helps us understand which phones are most frequently mistaken by the models we're interested in. Conversely, can also see which phones we're performing well on.\n",
    "\n",
    "We'll also use this notebook to grab the phone token vocabulary from each model based on the symbols that appear in its TIMIT transcriptions. "
   ]
  },
  {
   "cell_type": "code",
   "execution_count": null,
   "id": "d8b23a8e",
   "metadata": {},
   "outputs": [],
   "source": [
    "import collections\n",
    "from pathlib import Path\n",
    "import re\n",
    "\n",
    "import ipatok\n",
    "import matplotlib.pyplot as plt\n",
    "import numpy as np\n",
    "import pandas as pd\n",
    "from phonecodes import phonecode_tables\n",
    "import seaborn as sns\n",
    "\n",
    "from multipa.evaluation import ModelEvaluator, PREDICTION_KEY\n",
    "\n",
    "pd.set_option('display.max_columns', None)\n",
    "pd.set_option('display.max_rows', None)\n",
    "\n",
    "DETAILED_EVAL_PATH = Path(\"../data/timit_results/detailed_predictions/\")\n",
    "\n",
    "DETAILED_EVAL_CSVS = [\n",
    "    \"allosaurus_eng2102_eng_detailed_predictions.csv\"\n",
    "    \"ctaguchi_wav2vec2-large-xlsr-japlmthufielta-ipa1000-ns_detailed_predictions.csv\",\n",
    "    \"facebook_wav2vec2-lv-60-espeak-cv-ft_detailed_predictions.csv\",\n",
    "    \"ginic_full_dataset_train_3_wav2vec2-large-xlsr-53-buckeye-ipa_detailed_predictions.csv\",\n",
    "    \"openai_whisper-large-v3-turbo_to_epitran_detailed_predictions.csv\",\n",
    "    \"openai_whisper-medium.en_to_epitran_detailed_predictions.csv\"\n",
    "]"
   ]
  }
 ],
 "metadata": {
  "kernelspec": {
   "display_name": "multipa",
   "language": "python",
   "name": "python3"
  },
  "language_info": {
   "name": "python",
   "version": "3.11.10"
  }
 },
 "nbformat": 4,
 "nbformat_minor": 5
}
